{
 "cells": [
  {
   "cell_type": "code",
   "execution_count": 1,
   "metadata": {
    "vscode": {
     "languageId": "cpp"
    }
   },
   "outputs": [
    {
     "name": "stdout",
     "output_type": "stream",
     "text": [
      "wrote file Operation.cpp\n",
      "$> g++   Operation.cpp    -o Operation\n",
      "$> ./Operation \n",
      "2\n",
      "1\n",
      "0\n",
      "1\n",
      "AB\n",
      "114514\n",
      "00001100\n",
      "00000011\n",
      "00110100\n"
     ]
    }
   ],
   "source": [
    "//// Operation.cpp\n",
    "\n",
    "#include <iostream>\n",
    "#include <bitset>\n",
    "using namespace std;\n",
    "\n",
    "int main()\n",
    "{\n",
    "  cout << 5 / 2 << endl;               // 整除\n",
    "  cout << 5 % 2 << endl;               // 余数\n",
    "  cout << ((1 > 0)&&(1 < 0)) << endl;  // AND\n",
    "  cout << ((1 > 0)||(1 < 0)) << endl;  // OR\n",
    "\n",
    "  string output;                       // string 操作\n",
    "  output += \"A\";\n",
    "  output += \"B\";\n",
    "  cout << output <<endl;\n",
    "\n",
    "  cout << to_string(114514) << endl;           // String Int 转换\n",
    "\n",
    "  cout << bitset<8>(0b1101 & 0b1100) << endl;  // & 按位操作\n",
    "\n",
    "  cout << bitset<8>(0b1101 >> 2) << endl;      // >> 操作\n",
    "  cout << bitset<8>(0b1101 << 2) << endl;      // << 操作\n",
    "  \n",
    "  return 0;\n",
    "}"
   ]
  },
  {
   "cell_type": "code",
   "execution_count": 1,
   "metadata": {
    "vscode": {
     "languageId": "cpp"
    }
   },
   "outputs": [
    {
     "name": "stdout",
     "output_type": "stream",
     "text": [
      "wrote file for_loop.cpp\n",
      "$> g++   for_loop.cpp    -o for_loop\n",
      "$> ./for_loop \n",
      "0 1 2 3 4 5 6 7 8 9 \n",
      "0 1 2 3 4 5 6 7 8 9 "
     ]
    }
   ],
   "source": [
    "//// for_loop.cpp\n",
    "\n",
    "#include <iostream>\n",
    "using namespace std;\n",
    "\n",
    "int main()\n",
    "{\n",
    "  // For Loop\n",
    "  for(int i = 0; i < 10; i++)\n",
    "  {\n",
    "    cout << i << \" \";\n",
    "  }\n",
    "\n",
    "  // While Loop\n",
    "  cout << endl;\n",
    "  int num = 0;\n",
    "  while (num < 10)\n",
    "  {\n",
    "    cout << num << \" \";\n",
    "    num += 1;\n",
    "  }\n",
    "\n",
    "  return 0;\n",
    "}"
   ]
  },
  {
   "cell_type": "code",
   "execution_count": null,
   "metadata": {
    "vscode": {
     "languageId": "cpp"
    }
   },
   "outputs": [
    {
     "name": "stdout",
     "output_type": "stream",
     "text": [
      "wrote file pointer.cpp\n",
      "$> g++   pointer.cpp    -o pointer\n",
      "$> ./pointer \n",
      "\n",
      "0x7ffe2c45e70c\n"
     ]
    }
   ],
   "source": [
    "//// pointer.cpp\n",
    "\n",
    "#include <iostream>\n",
    "using namespace std;\n",
    "\n",
    "int main()\n",
    "{\n",
    "  int * pointer;\n",
    "  int   a = 1;\n",
    "\n",
    "  pointer = &a;\n",
    "\n",
    "  cout << endl;\n",
    "  cout << pointer << endl;\n",
    "\n",
    "  return 0;\n",
    "}"
   ]
  }
 ],
 "metadata": {
  "kernelspec": {
   "display_name": "C/C++",
   "language": "",
   "name": "ckernel"
  },
  "language_info": {
   "codemirror_mode": "text/x-csrc",
   "name": "c"
  }
 },
 "nbformat": 4,
 "nbformat_minor": 2
}

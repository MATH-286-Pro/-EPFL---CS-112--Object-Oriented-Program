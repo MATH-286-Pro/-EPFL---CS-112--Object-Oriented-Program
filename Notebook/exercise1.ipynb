{
 "cells": [
  {
   "cell_type": "markdown",
   "metadata": {},
   "source": [
    "# **Exercise 1**"
   ]
  },
  {
   "cell_type": "markdown",
   "metadata": {},
   "source": [
    "## **Note 笔记**"
   ]
  },
  {
   "cell_type": "code",
   "execution_count": 1,
   "metadata": {
    "vscode": {
     "languageId": "cpp"
    }
   },
   "outputs": [
    {
     "name": "stdout",
     "output_type": "stream",
     "text": [
      "wrote file imc.cpp\n",
      "$> g++   imc.cpp    -o imc\n",
      "$> ./imc \n",
      "Enter weight (kg) and height (m) : IMC : 27.6817\n",
      "Enter weight (kg) and height (m) : IMC : 1\n",
      "Enter weight (kg) and height (m) : IMC : 1\n",
      "Enter weight (kg) and height (m) : IMC : -nan\n"
     ]
    }
   ],
   "source": [
    "//// imc.cpp\n",
    "#include <iostream>\n",
    "using namespace std;\n",
    "\n",
    "/*****************************************************\n",
    " * Complete the code from here\n",
    " *****************************************************/\n",
    "class Patient\n",
    "{\n",
    "  private:\n",
    "    double weight;\n",
    "    double height;\n",
    "\n",
    "  public: // 如果不声明 public，所有东西会默认为 private\n",
    "    void init(double input1, double input2)\n",
    "    {\n",
    "      weight  = input1;\n",
    "      height  = input2;\n",
    "    }\n",
    "\n",
    "    double afficher() const     // +const = 不会修改 实例的值\n",
    "    {\n",
    "      return weight*height;\n",
    "    }\n",
    "\n",
    "    double imc() const\n",
    "    {\n",
    "      return weight/(height*height);\n",
    "    }\n",
    "};\n",
    "\n",
    "/*******************************************\n",
    " * Do not modify anything after this line.\n",
    " *******************************************/\n",
    "\n",
    "\n",
    "int main()\n",
    "{\n",
    "  Patient quidam;\n",
    "  double weight, height;\n",
    "  do {\n",
    "    cout << \"Enter weight (kg) and height (m) : \";\n",
    "    cin >> weight >> height;\n",
    "    quidam.init(weight, height);\n",
    "    quidam.afficher();\n",
    "    cout << \"IMC : \" << quidam.imc() << endl;\n",
    "  } while (weight * height != 0.0);\n",
    "  return 0;\n",
    "}\n"
   ]
  },
  {
   "cell_type": "code",
   "execution_count": 1,
   "metadata": {
    "vscode": {
     "languageId": "cpp"
    }
   },
   "outputs": [
    {
     "name": "stdout",
     "output_type": "stream",
     "text": [
      "wrote file tirelire.cpp\n"
     ]
    },
    {
     "name": "stderr",
     "output_type": "stream",
     "text": [
      "tirelire.cpp: In function ‘int main()’:\n",
      "tirelire.cpp:16:3: error: ‘Tirelire’ was not declared in this scope\n",
      "   16 |   Tirelire piggy;\n",
      "      |   ^~~~~~~~\n",
      "tirelire.cpp:18:3: error: ‘piggy’ was not declared in this scope\n",
      "   18 |   piggy.vider();\n",
      "      |   ^~~~~\n"
     ]
    }
   ],
   "source": [
    "//// tirelire.cpp\n",
    "#include <iostream>\n",
    "using namespace std;\n",
    "\n",
    "/*******************************************\n",
    " * Complétez le programme à partir d'ici.\n",
    " *******************************************/\n",
    "class Tirelre{\n",
    "\n",
    "  \n",
    "};\n",
    "\n",
    "/*******************************************\n",
    " * Ne rien modifier après cette ligne.\n",
    " *******************************************/\n",
    "\n",
    "int main()\n",
    "{\n",
    "  Tirelire piggy;\n",
    "\n",
    "  piggy.vider();\n",
    "  piggy.secouer();\n",
    "  piggy.afficher();\n",
    "\n",
    "  piggy.puiser(20.0);\n",
    "  piggy.secouer();\n",
    "  piggy.afficher();\n",
    "\n",
    "  piggy.remplir(550.0);\n",
    "  piggy.secouer();\n",
    "  piggy.afficher();\n",
    "\n",
    "  piggy.puiser(10.0);\n",
    "  piggy.puiser(5.0);\n",
    "  piggy.afficher();\n",
    "\n",
    "  cout << endl;\n",
    "\n",
    "  // le budget de vos vacances de rève.\n",
    "  double budget;\n",
    "\n",
    "  cout << \"Donnez le budget de vos vacances : \";\n",
    "  cin >> budget;\n",
    "\n",
    "  // ce qui resterait dans la tirelire après les\n",
    "  // vacances\n",
    "  double solde(0.0);\n",
    "\n",
    "  if (piggy.montant_suffisant(budget, solde)) {\n",
    "    cout << \"Vous êtes assez riche pour partir en vacances !\"\n",
    "         << endl\n",
    "         << \"Il vous restera \" << solde << \" euros\"\n",
    "         << \" à la rentrée.\" << endl << endl;\n",
    "    piggy.puiser(budget);\n",
    "  } else {\n",
    "    cout << \"Il vous manque \" << solde << \" euros\"\n",
    "         << \" pour partir en vacances !\" << endl << endl;\n",
    "  }\n",
    "  return 0;\n",
    "}\n"
   ]
  },
  {
   "cell_type": "code",
   "execution_count": 1,
   "metadata": {
    "vscode": {
     "languageId": "cpp"
    }
   },
   "outputs": [
    {
     "name": "stdout",
     "output_type": "stream",
     "text": [
      "wrote file test.cpp\n",
      "$> g++   test.cpp    -o test\n",
      "$> ./test \n",
      "1\n"
     ]
    }
   ],
   "source": [
    "//// test.cpp\n",
    "#include <iostream>\n",
    "#include <vector>\n",
    "using namespace std;\n",
    "\n",
    "int main()\n",
    "{\n",
    "  vector<int> num = {1,2,4,5};  // 数组\n",
    "\n",
    "  cout << num[0] << endl;       // 数组第一个元素\n",
    "\n",
    "  return 0;\n",
    "}\n"
   ]
  }
 ],
 "metadata": {
  "kernelspec": {
   "display_name": "C/C++",
   "language": "",
   "name": "ckernel"
  },
  "language_info": {
   "codemirror_mode": "text/x-csrc",
   "name": "c"
  }
 },
 "nbformat": 4,
 "nbformat_minor": 2
}
